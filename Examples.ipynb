{
 "cells": [
  {
   "cell_type": "code",
   "execution_count": null,
   "id": "initial_id",
   "metadata": {
    "ExecuteTime": {
     "end_time": "2024-02-26T16:42:24.720050231Z",
     "start_time": "2024-02-26T16:42:24.704178212Z"
    },
    "collapsed": true
   },
   "outputs": [],
   "source": [
    "import os\n",
    "import pickle\n",
    "\n",
    "import numpy as np\n",
    "import h5py\n",
    "import matplotlib.pyplot as plt\n",
    "import torch\n",
    "\n",
    "import PIL\n",
    "from skimage import io"
   ]
  },
  {
   "cell_type": "code",
   "execution_count": null,
   "id": "c324c520",
   "metadata": {},
   "outputs": [],
   "source": [
    "import openslide"
   ]
  },
  {
   "cell_type": "code",
   "execution_count": null,
   "id": "81948098",
   "metadata": {},
   "outputs": [],
   "source": [
    "try:\n",
    "    import multiresolutionimageinterface as mir\n",
    "except ImportError as e:\n",
    "    print(e)"
   ]
  },
  {
   "cell_type": "code",
   "execution_count": null,
   "id": "7f8f1232",
   "metadata": {},
   "outputs": [],
   "source": [
    "from utils.file_utils import print_h5_file_info, check_h5_files_are_equal"
   ]
  },
  {
   "cell_type": "code",
   "execution_count": null,
   "id": "8022834f",
   "metadata": {},
   "outputs": [],
   "source": [
    "camelyon16_data_path = 'data/camelyon16-test001'\n",
    "camelyon16_patch_size = 256\n",
    "subject_id = 'test_001'\n",
    "\n",
    "# parameters used by authors for CAMELYON16 dataset\n",
    "mask_downsapmle_level = 5\n",
    "mask_downsample_factor = 2 ** mask_downsapmle_level\n",
    "\n",
    "# from the original CAMELYON16 dataset\n",
    "sample_slide_path = f'{camelyon16_data_path}/slides/{subject_id}.tif'\n",
    "sample_xml_annotation_path = f'{camelyon16_data_path}/lesion_annotations/{subject_id}.xml'\n",
    "\n",
    "# computed by the authors using the xml file and slide dimentions using multiresolutionimageinterface (example at the very end of the notebook)\n",
    "sample_reference_mask_path = f'{camelyon16_data_path}/reference_masks/{subject_id}.png'\n",
    "\n",
    "# patches shared by authours using the CLAM pipeline\n",
    "sample_h5_patches_fp = f\"{camelyon16_data_path}/patches_fp_shared_by_authors/patches/{subject_id}.h5\"\n",
    "\n",
    "# ground truth patch indexes computed by authors for the patches created by CLAM pipeline using patch coordinates and lesion annotations xml file\n",
    "sample_pickle_gt_path = f'{camelyon16_data_path}/gt_patches_indexes/{subject_id}.pkl'\n",
    "\n",
    "# features computed by authors after creating patches with CLAM pipeline\n",
    "sample_h5_features_file_path = f'{camelyon16_data_path}/features_shared_by_authors/h5_files/{subject_id}.h5'\n",
    "sample_pt_features_file_path = f'{camelyon16_data_path}/features_shared_by_authors/pt_files/{subject_id}.pt'\n",
    "if not os.path.exists(sample_pt_features_file_path):\n",
    "    with h5py.File(sample_h5_features_file_path, \"r\") as f:\n",
    "        feats_pt_from_hdf5 = torch.from_numpy(f['features'][:])\n",
    "        torch.save(feats_pt_from_hdf5, sample_pt_features_file_path)\n",
    "\n",
    "# can be computed using 'coords' (either patches or features file) from the h5 files shared by the authors\n",
    "tissue_mask_downsampled_path = f\"{camelyon16_data_path}/tissue_masks_created_from_h5_coords/{subject_id}.png\"\n",
    "\n",
    "# computed by GeorgeBatch from the xml file using ASAP multiresolutionimageinterface (mir)\n",
    "sample_from_xml_reference_mask_mir_path = f'{camelyon16_data_path}/masks_created_from_xml/{subject_id}_ASAP_mir.tif'\n",
    "sample_from_xml_reference_mask_openslide_path = f'{camelyon16_data_path}/masks_created_from_xml/{subject_id}_ASAP_openslide.tif'"
   ]
  },
  {
   "cell_type": "code",
   "execution_count": null,
   "id": "d48836fd",
   "metadata": {},
   "outputs": [],
   "source": [
    "# can be changed - just used as an example of a region where the lesion is present\n",
    "example_region_downsample_level = 4\n",
    "example_region_xy = (14000, 10000)\n",
    "example_region_size = (1000, 1000)"
   ]
  },
  {
   "cell_type": "markdown",
   "id": "f1780936",
   "metadata": {},
   "source": [
    "## Openslide"
   ]
  },
  {
   "cell_type": "code",
   "execution_count": null,
   "id": "71879d16",
   "metadata": {},
   "outputs": [],
   "source": [
    "openslide_slide = openslide.open_slide(sample_slide_path)\n",
    "\n",
    "for i in range(openslide_slide.level_count):\n",
    "    print(f'Level {i}')\n",
    "    print(f'\\t Dimensions (width, height): {openslide_slide.level_dimensions[i]}')\n",
    "    print(f'\\t Downsample: {openslide_slide.level_downsamples[i]}')\n",
    "\n",
    "plt.imshow(openslide_slide.get_thumbnail((786, 786)))\n",
    "plt.show()"
   ]
  },
  {
   "cell_type": "code",
   "execution_count": null,
   "id": "76b26e5c",
   "metadata": {},
   "outputs": [],
   "source": [
    "downsample_factor = openslide_slide.level_downsamples[example_region_downsample_level]\n",
    "print(\"downsample_level :\", example_region_downsample_level)\n",
    "print(\"downsample_factor:\", downsample_factor)\n",
    "assert downsample_factor == 2 ** example_region_downsample_level\n",
    "\n",
    "image_patch = openslide_slide.read_region(\n",
    "    example_region_xy,\n",
    "    example_region_downsample_level,\n",
    "    example_region_size\n",
    ")\n",
    "plt.imshow(image_patch)\n",
    "image_patch.size"
   ]
  },
  {
   "cell_type": "code",
   "execution_count": null,
   "id": "468953de",
   "metadata": {},
   "outputs": [],
   "source": [
    "for key, value in openslide_slide.properties.items():\n",
    "    print(key, value)"
   ]
  },
  {
   "cell_type": "markdown",
   "id": "b25356cc6db6f674",
   "metadata": {
    "collapsed": false
   },
   "source": [
    "## Ground Truth Pickle files"
   ]
  },
  {
   "cell_type": "code",
   "execution_count": null,
   "id": "8efa72bb3cbc0728",
   "metadata": {
    "ExecuteTime": {
     "end_time": "2024-02-26T16:42:25.545361799Z",
     "start_time": "2024-02-26T16:42:25.542169546Z"
    },
    "collapsed": false
   },
   "outputs": [],
   "source": [
    "with open(sample_pickle_gt_path, 'rb') as f:\n",
    "    gt_patches_indexes = pickle.load(f)"
   ]
  },
  {
   "cell_type": "code",
   "execution_count": null,
   "id": "823a1ac29ea61ab0",
   "metadata": {
    "ExecuteTime": {
     "end_time": "2024-02-26T16:42:26.109207288Z",
     "start_time": "2024-02-26T16:42:26.103887220Z"
    },
    "collapsed": false
   },
   "outputs": [],
   "source": [
    "type(gt_patches_indexes), len(gt_patches_indexes)"
   ]
  },
  {
   "cell_type": "code",
   "execution_count": null,
   "id": "553e0334",
   "metadata": {},
   "outputs": [],
   "source": [
    "gt_patches_indexes_np = np.array(gt_patches_indexes)"
   ]
  },
  {
   "cell_type": "code",
   "execution_count": null,
   "id": "93336f7f088aac9d",
   "metadata": {
    "ExecuteTime": {
     "end_time": "2024-02-26T16:42:26.761406624Z",
     "start_time": "2024-02-26T16:42:26.755421273Z"
    },
    "collapsed": false
   },
   "outputs": [],
   "source": [
    "gt_patches_indexes_np[:10], gt_patches_indexes_np[-10:]"
   ]
  },
  {
   "cell_type": "code",
   "execution_count": null,
   "id": "d9915fe2",
   "metadata": {},
   "outputs": [],
   "source": [
    "min(gt_patches_indexes_np), max(gt_patches_indexes_np), max(gt_patches_indexes_np) - min(gt_patches_indexes_np)"
   ]
  },
  {
   "cell_type": "markdown",
   "id": "5cb3d9cd",
   "metadata": {},
   "source": [
    "## Tumor (Reference) Mask from the original dataset"
   ]
  },
  {
   "cell_type": "code",
   "execution_count": null,
   "id": "57e0a4ac",
   "metadata": {},
   "outputs": [],
   "source": [
    "print(sample_reference_mask_path)\n",
    "sample_reference_mask = PIL.Image.open(sample_reference_mask_path)\n",
    "print(sample_reference_mask.size) # (width, height)\n",
    "\n",
    "plt.imshow(sample_reference_mask)\n",
    "plt.show()"
   ]
  },
  {
   "cell_type": "code",
   "execution_count": null,
   "id": "c989316f",
   "metadata": {},
   "outputs": [],
   "source": [
    "# (total slide width, total slide hieght) / (total mask width, total mask height)\n",
    "np.array(openslide_slide.dimensions) / np.array(sample_reference_mask.size)"
   ]
  },
  {
   "cell_type": "code",
   "execution_count": null,
   "id": "0912ff32",
   "metadata": {},
   "outputs": [],
   "source": [
    "sample_reference_mask_np = np.array(sample_reference_mask)\n",
    "print(\"shape:\", sample_reference_mask_np.shape)  # (height, width, channels) <=> (row, col, colour)\n",
    "print(\"unique:\", np.unique(sample_reference_mask_np))\n",
    "print(\"range:\", sample_reference_mask_np.min(axis=(0, 1)), sample_reference_mask_np.max(axis=(0, 1)))\n",
    "\n",
    "sample_reference_mask_np_larger_side = max(sample_reference_mask_np.shape[:2])\n",
    "print(\"larger side:\", sample_reference_mask_np_larger_side)"
   ]
  },
  {
   "cell_type": "code",
   "execution_count": null,
   "id": "fb5c41ed",
   "metadata": {},
   "outputs": [],
   "source": [
    "sample_reference_mask_np_binary = (\n",
    "    sample_reference_mask_np.mean(axis=2, keepdims=True) / 255).astype(int)\n",
    "\n",
    "print(\"shape:\", sample_reference_mask_np_binary.shape)\n",
    "print(\"unique:\", np.unique(sample_reference_mask_np_binary))\n",
    "print(\"range:\", sample_reference_mask_np_binary.min(), sample_reference_mask_np_binary.max())"
   ]
  },
  {
   "cell_type": "code",
   "execution_count": null,
   "id": "e2a5f076",
   "metadata": {},
   "outputs": [],
   "source": [
    "(sample_reference_mask_np == [255, 255, 255]).sum() / (mask_downsample_factor ** 2)"
   ]
  },
  {
   "cell_type": "code",
   "execution_count": null,
   "id": "100e0d2c",
   "metadata": {},
   "outputs": [],
   "source": [
    "slide_thumbnail_np = np.array(\n",
    "    openslide_slide.get_thumbnail((sample_reference_mask_np_larger_side, sample_reference_mask_np_larger_side))\n",
    ")\n",
    "slide_thumbnail_np.shape"
   ]
  },
  {
   "cell_type": "code",
   "execution_count": null,
   "id": "4d39a0c2",
   "metadata": {},
   "outputs": [],
   "source": [
    "plt.imshow(slide_thumbnail_np * sample_reference_mask_np_binary)\n",
    "plt.show()"
   ]
  },
  {
   "cell_type": "code",
   "execution_count": null,
   "id": "049b8b35",
   "metadata": {},
   "outputs": [],
   "source": [
    "alpha = 0.3\n",
    "sample_reference_mask_np_transparency = np.clip(\n",
    "    sample_reference_mask_np_binary,\n",
    "    alpha, 1\n",
    ")\n",
    "\n",
    "plt.imshow((slide_thumbnail_np * sample_reference_mask_np_transparency).astype(int))\n",
    "plt.show()"
   ]
  },
  {
   "cell_type": "markdown",
   "id": "71846018",
   "metadata": {},
   "source": [
    "## patches_fp HDF5 file with 'coords' and metadata - shared by the authors"
   ]
  },
  {
   "cell_type": "code",
   "execution_count": null,
   "id": "004719ce",
   "metadata": {},
   "outputs": [],
   "source": [
    "# not using print_h5_file_info because we need to get coords_wo_features_np\n",
    "\n",
    "print_h5_file_info(sample_h5_patches_fp)\n",
    "\n",
    "with h5py.File(sample_h5_patches_fp, 'r') as f:\n",
    "    coords_wo_features_np = f['coords'][:]"
   ]
  },
  {
   "cell_type": "markdown",
   "id": "965c3cbb",
   "metadata": {},
   "source": [
    "## features HDF5 file with 'coords' and 'features' shared by the authors"
   ]
  },
  {
   "cell_type": "code",
   "execution_count": null,
   "id": "ae5c5c64",
   "metadata": {},
   "outputs": [],
   "source": [
    "print_h5_file_info(sample_h5_features_file_path)\n",
    "\n",
    "with h5py.File(sample_h5_features_file_path, 'r') as f:\n",
    "    tissue_coords_np = f['coords'][:]\n",
    "\n",
    "print(tissue_coords_np.shape)\n",
    "print(tissue_coords_np.min(axis=0), tissue_coords_np.max(axis=0))"
   ]
  },
  {
   "cell_type": "code",
   "execution_count": null,
   "id": "f0410327",
   "metadata": {},
   "outputs": [],
   "source": [
    "# check that the coordinates from the file with features and without match\n",
    "assert (coords_wo_features_np == tissue_coords_np).all()"
   ]
  },
  {
   "cell_type": "code",
   "execution_count": null,
   "id": "3fda3e08",
   "metadata": {},
   "outputs": [],
   "source": [
    "print(sample_slide_path)\n",
    "openslide_slide = openslide.open_slide(sample_slide_path)\n",
    "openslide_slide.dimensions"
   ]
  },
  {
   "cell_type": "code",
   "execution_count": null,
   "id": "01af548a",
   "metadata": {},
   "outputs": [],
   "source": [
    "# check if the coordinates are multiples of 64 and 128\n",
    "#   of 64, but not of 128 \n",
    "(tissue_coords_np % 64 == 0).all(), (tissue_coords_np % 128 == 0).all()"
   ]
  },
  {
   "cell_type": "code",
   "execution_count": null,
   "id": "80087d22",
   "metadata": {},
   "outputs": [],
   "source": [
    "tissue_coords_np[gt_patches_indexes_np].shape"
   ]
  },
  {
   "cell_type": "markdown",
   "id": "bc853f04",
   "metadata": {},
   "source": [
    "### Make a reference mask using shared 'coords' and gt_patch_indexes pickle"
   ]
  },
  {
   "cell_type": "code",
   "execution_count": null,
   "id": "049f7467",
   "metadata": {},
   "outputs": [],
   "source": [
    "# make a mask from tissue_coords_np / mask_downsample_factor taking the indexes from gt_patches_indexes_np to be 1 and all the other to be 0\n",
    "# camelyon16 patch size was 256 in MS-CLAM\n",
    "\n",
    "assert camelyon16_patch_size % mask_downsample_factor == 0\n",
    "downsampled_patch_size = camelyon16_patch_size // mask_downsample_factor\n",
    "print(downsampled_patch_size)\n",
    "\n",
    "tissue_coords_np_downsampled = (tissue_coords_np / mask_downsample_factor).astype(int)\n",
    "\n",
    "print(tissue_coords_np_downsampled.min(axis=0), tissue_coords_np_downsampled.max(axis=0))\n",
    "print()\n",
    "\n",
    "\n",
    "np.array(openslide_slide.dimensions) // mask_downsample_factor == np.array(sample_reference_mask_np.shape)[[1, 0]]\n",
    "# make a 0-mask\n",
    "tumor_mask_downsampled = np.zeros(\n",
    "    np.array(openslide_slide.dimensions) // mask_downsample_factor,\n",
    "    # tissue_coords_np_downsampled64.max(axis=0) + 1,\n",
    "    dtype=int)\n",
    "# set the indexes from gt_patches_indexes_np to 1\n",
    "# plt.imshow(tumor_mask_downsampled,)\n",
    "\n",
    "\n",
    "x_coords, y_coords = tissue_coords_np_downsampled[gt_patches_indexes_np].T\n",
    "for x, y in zip(x_coords, y_coords):\n",
    "    tumor_mask_downsampled[x:x+downsampled_patch_size,\n",
    "                       y:y+downsampled_patch_size] = 1\n",
    "\n",
    "print(tumor_mask_downsampled.min(), tumor_mask_downsampled.max())\n",
    "\n",
    "\n",
    "tumor_mask_downsampled_transposed = tumor_mask_downsampled.T\n",
    "\n",
    "# check that the masks match\n",
    "assert (tumor_mask_downsampled_transposed ==\n",
    "        sample_reference_mask_np_binary[:, :, 0]).all()\n",
    "\n",
    "# bw = ListedColormap(['black', 'white'])\n",
    "# plt.imshow(tumor_mask_downsampled, cmap=bw)\n",
    "plt.imshow(tumor_mask_downsampled_transposed, cmap='gray')\n",
    "plt.show()"
   ]
  },
  {
   "cell_type": "code",
   "execution_count": null,
   "id": "5238fb46",
   "metadata": {},
   "outputs": [],
   "source": [
    "plt.imshow(\n",
    "    PIL.Image.fromarray(\n",
    "        (tumor_mask_downsampled_transposed * 255).astype(np.uint8)\n",
    "        ) #.save('mask_downsampled_pil.png')\n",
    "    , cmap='gray'\n",
    ")\n",
    "plt.show()"
   ]
  },
  {
   "cell_type": "code",
   "execution_count": null,
   "id": "16ec0604",
   "metadata": {},
   "outputs": [],
   "source": [
    "sample_reference_mask_np_binary.shape, tumor_mask_downsampled_transposed.shape"
   ]
  },
  {
   "cell_type": "code",
   "execution_count": null,
   "id": "691b1d4f",
   "metadata": {},
   "outputs": [],
   "source": [
    "sample_reference_mask_np_binary[:, :, 0].max(\n",
    "), tumor_mask_downsampled_transposed.max()"
   ]
  },
  {
   "cell_type": "code",
   "execution_count": null,
   "id": "08a86595",
   "metadata": {},
   "outputs": [],
   "source": [
    "masks_overlay = np.stack(\n",
    "    # (red, green, blue) channels\n",
    "    [\n",
    "        sample_reference_mask_np_binary[:, :, 0],\n",
    "        np.zeros_like(tumor_mask_downsampled_transposed),\n",
    "        tumor_mask_downsampled_transposed,\n",
    "    ],                  \n",
    "    axis=-1\n",
    ")\n",
    "plt.imshow((PIL.Image.fromarray((masks_overlay * 255).astype(np.uint8))))\n",
    "plt.show()"
   ]
  },
  {
   "cell_type": "code",
   "execution_count": null,
   "id": "9af1bd3b",
   "metadata": {},
   "outputs": [],
   "source": [
    "# check that the masks match\n",
    "assert (tumor_mask_downsampled_transposed == sample_reference_mask_np_binary[:, :,0]).all()"
   ]
  },
  {
   "cell_type": "markdown",
   "id": "8012237d",
   "metadata": {},
   "source": [
    "### Tissue Mask recovered using the 'coords' from the HDF5 file"
   ]
  },
  {
   "cell_type": "code",
   "execution_count": null,
   "id": "b61f341f",
   "metadata": {},
   "outputs": [],
   "source": [
    "print(sample_h5_patches_fp)\n",
    "print_h5_file_info(sample_h5_patches_fp)"
   ]
  },
  {
   "cell_type": "code",
   "execution_count": null,
   "id": "98a23c41",
   "metadata": {},
   "outputs": [],
   "source": [
    "# make a mask from tissue_coords_np / 64 taking the indexes from gt_patches_indexes_np to be 1 and all the other to be 0\n",
    "# use the minimum and maximum of the coordinates in both axis to make the mask\n",
    "\n",
    "# camelyon16 patch size was 256 in MS-CLAM\n",
    "\n",
    "assert camelyon16_patch_size % mask_downsample_factor == 0\n",
    "downsampled_patch_size = camelyon16_patch_size // mask_downsample_factor\n",
    "print(downsampled_patch_size)\n",
    "\n",
    "tissue_coords_np_downsampled = (tissue_coords_np / mask_downsample_factor).astype(int)\n",
    "\n",
    "print(tissue_coords_np_downsampled.min(axis=0), tissue_coords_np_downsampled.max(axis=0))\n",
    "print()\n",
    "\n",
    "\n",
    "np.array(openslide_slide.dimensions) // mask_downsample_factor == np.array(\n",
    "    sample_reference_mask_np.shape)[[1, 0]]\n",
    "# make a 0-mask\n",
    "tissue_mask_downsampled = np.zeros(\n",
    "    np.array(openslide_slide.dimensions) // mask_downsample_factor,\n",
    "    # tissue_coords_np_downsampled64.max(axis=0) + 1,\n",
    "    dtype=int)\n",
    "\n",
    "x_coords, y_coords = tissue_coords_np_downsampled[:].T\n",
    "for x, y in zip(x_coords, y_coords):\n",
    "    tissue_mask_downsampled[x:x+downsampled_patch_size,\n",
    "                     y:y+downsampled_patch_size] = 1\n",
    "\n",
    "print(tissue_mask_downsampled.min(), tissue_mask_downsampled.max())\n",
    "\n",
    "\n",
    "tissue_mask_downsampled_transposed = tissue_mask_downsampled.T\n",
    "\n",
    "plt.imshow(tissue_mask_downsampled_transposed, cmap='gray')\n",
    "\n",
    "os.makedirs(os.path.dirname(tissue_mask_downsampled_path), exist_ok=True)\n",
    "plt.imsave(tissue_mask_downsampled_path, tissue_mask_downsampled_transposed, cmap='gray')"
   ]
  },
  {
   "cell_type": "markdown",
   "id": "ae9e5822",
   "metadata": {},
   "source": [
    "### Tissue Mask - Tumor mask overlay"
   ]
  },
  {
   "cell_type": "code",
   "execution_count": null,
   "id": "5c8e6d7a",
   "metadata": {},
   "outputs": [],
   "source": [
    "tissue_tumor_masks_overlay = np.stack(\n",
    "    # (red, green, blue) channels\n",
    "    [\n",
    "        tissue_mask_downsampled_transposed,                 # red tissue   \n",
    "        np.zeros_like(tissue_mask_downsampled_transposed),  # zero green\n",
    "        tumor_mask_downsampled_transposed,                  # blue tumor\n",
    "    ],\n",
    "    axis=-1\n",
    ")\n",
    "plt.imshow(PIL.Image.fromarray((tissue_tumor_masks_overlay * 255).astype(np.uint8)))\n",
    "plt.show()"
   ]
  },
  {
   "cell_type": "markdown",
   "id": "1afc6622",
   "metadata": {},
   "source": [
    "## Check that the feature extraction was successful\n",
    "\n",
    "Follow the instructions from the README, but use the single-slide example to speed up the process as described below.\n",
    "\n",
    "To extract features, use [extract_features_fp.py](https://github.com/mahmoodlab/CLAM/blob/master/extract_features_fp.py) as shown below. You can speed up the process if you have a GPU with more memory or even multiple GPUs by\n",
    "- increasing the `batch_size` parameter, e.g. to 1024\n",
    "- setting `CUDA_VISIBLE_DEVICES=0,1,2,3` if you have 4 GPUs\n",
    "\n",
    "```shell\n",
    "# tmux new-session -s extract-camelyon16-test001-features\n",
    "# tmux attach -t extract-camelyon16-test001-features\n",
    "# conda activate msclam\n",
    "\n",
    "# patches_fp has the coordinates shared by the authors of MS-CLAM\n",
    "CUDA_VISIBLE_DEVICES=0 python extract_features_fp.py \\\n",
    "  --data_h5_dir ../MS-CLAM/data/camelyon16-test001/patches_fp_shared_by_authors/ \\\n",
    "  --data_slide_dir ../MS-CLAM/data/camelyon16-test001/slides \\\n",
    "  --csv_path ../MS-CLAM/data/camelyon16-test001/patches_fp_shared_by_authors/process_list.csv \\\n",
    "  --feat_dir ../MS-CLAM/data/camelyon16-test001/features/ \\\n",
    "  --batch_size 256 \\\n",
    "  --slide_ext .tif\n",
    "```"
   ]
  },
  {
   "cell_type": "code",
   "execution_count": null,
   "id": "053c3f86",
   "metadata": {},
   "outputs": [],
   "source": [
    "assert torch.allclose(\n",
    "    torch.load(\n",
    "        sample_pt_features_file_path, map_location='cpu'),\n",
    "    torch.load(\n",
    "        \"data/camelyon16-test001/features/pt_files/test_001.pt\", map_location='cpu'),\n",
    "    atol=1e-7\n",
    ")"
   ]
  },
  {
   "cell_type": "code",
   "execution_count": null,
   "id": "fe5440fd",
   "metadata": {},
   "outputs": [],
   "source": [
    "assert check_h5_files_are_equal(\n",
    "    sample_h5_features_file_path,\n",
    "    \"data/camelyon16-test001/features/h5_files/test_001.h5\",\n",
    "    atol=1e-7\n",
    ")"
   ]
  },
  {
   "cell_type": "markdown",
   "id": "e3ce6a0a",
   "metadata": {},
   "source": [
    "## Find Indexes all tissue patches within tumour polygons in XML files\n",
    "\n",
    "This method should result in a similar set of indexes to the `gt_patches_indexes_np`"
   ]
  },
  {
   "cell_type": "code",
   "execution_count": null,
   "id": "f87b51d6",
   "metadata": {},
   "outputs": [],
   "source": [
    "import h5py\n",
    "import xml.etree.ElementTree as ET\n",
    "from shapely.geometry import Polygon, Point\n",
    "\n",
    "\n",
    "def parse_xml_to_polygons(xml_fp):\n",
    "    tree = ET.parse(xml_fp)\n",
    "    root = tree.getroot()\n",
    "\n",
    "    polygons = []\n",
    "    for annotation in root.find('Annotations').findall('Annotation'):\n",
    "        coords = annotation.find('Coordinates')\n",
    "        points = [(float(coord.attrib['X']), float(coord.attrib['Y'])) for coord in coords.findall('Coordinate')]\n",
    "        polygon = Polygon(points)\n",
    "        polygons.append(polygon)\n",
    "    \n",
    "    return polygons\n",
    "\n",
    "\n",
    "def get_patch_centers(coords, patch_size):\n",
    "    centers = []\n",
    "    half_size = patch_size / 2\n",
    "    for coord in coords:\n",
    "        center_x = coord[0] + half_size\n",
    "        center_y = coord[1] + half_size\n",
    "        centers.append((center_x, center_y))\n",
    "    return centers\n",
    "\n",
    "\n",
    "def get_patches_within_polygons(patch_centers, polygons):\n",
    "    indexes = []\n",
    "    for i, center in enumerate(patch_centers):\n",
    "        point = Point(center)\n",
    "        if any(polygon.contains(point) for polygon in polygons):\n",
    "            indexes.append(i)\n",
    "    return indexes\n",
    "\n",
    "# ---------------------------------------------------------------------------\n",
    "\n",
    "# Parse the XML file to get the polygons\n",
    "polygons = parse_xml_to_polygons(sample_xml_annotation_path)\n",
    "print(f\"{len(polygons)} Polygons:\\n\", polygons[:2], \"...\\n\")\n",
    "\n",
    "# Load the HDF5 file and get the coordinates of patches\n",
    "with h5py.File(sample_h5_patches_fp, 'r') as f:\n",
    "    coords_wo_features_np = f['coords'][:]\n",
    "    patch_size = f['coords'].attrs['patch_size']\n",
    "\n",
    "# Get the patch centers\n",
    "patch_centers = get_patch_centers(coords_wo_features_np, patch_size)\n",
    "print(f\"{len(patch_centers)} Patch centers:\\n\", patch_centers[:5], \"...\\n\")\n",
    "\n",
    "# Get the indexes of patches that are within the polygons\n",
    "tumour_patch_indexes = sorted(get_patches_within_polygons(patch_centers, polygons))\n",
    "print(f\"{len(tumour_patch_indexes)} Tumour patch indexes:\\n\", tumour_patch_indexes[:5], \"...\\n\")"
   ]
  },
  {
   "cell_type": "code",
   "execution_count": null,
   "id": "a65ac5e3",
   "metadata": {},
   "outputs": [],
   "source": [
    "print(\"In tumour_patch_indexes (computed now), but not in gt_patches_indexes_np (shared by the authors):\", len(set(tumour_patch_indexes) - set(gt_patches_indexes_np)))\n",
    "print(\"In gt_patches_indexes_np (shared by the authors), but not in tumour_patch_indexes (computed now):\", len(set(gt_patches_indexes_np) - set(tumour_patch_indexes)))"
   ]
  },
  {
   "cell_type": "markdown",
   "id": "97f90a4997854996",
   "metadata": {
    "collapsed": false
   },
   "source": [
    "## ASAP for making a mask from xml annotation files\n",
    "\n",
    "1. Download [ASAP](https://github.com/computationalpathologygroup/ASAP)\n",
    "\n",
    "2. Add these lines to `~/.bashrc`:\n",
    "    ```\n",
    "    # Add the path to the ASAP (https://github.com/computationalpathologygroup/ASAP) bin directory\n",
    "    export PYTHONPATH=$PYTHONPATH:/opt/ASAP/bin\n",
    "    ```\n",
    "   \n",
    "3. Close and open shell for the changes to take place.\n",
    "\n",
    "Instructions from: https://camelyon17.grand-challenge.org/Data/\n",
    "\n",
    "\n",
    "**Issues that it's useful to check**\n",
    "\n",
    "1. **Problem**: Mask empty: https://github.com/computationalpathologygroup/ASAP/issues/205\n",
    "**Solution**: Fix label map to correspond to the xml groups. See issue comment.\n",
    "\n",
    "\n",
    "2. **Problem**: Opening mask with openslide results in an empty mask, while ASAP works: https://github.com/computationalpathologygroup/ASAP/issues/143\n",
    "**Solution**: Be careful with the channels when opening openslide. See issue comment.\n",
    "\n",
    "\n",
    "3. **Problem**: Mask making is too slow: https://github.com/computationalpathologygroup/ASAP/issues/195\n",
    "**Solution**: Lower the resolution, **how???**"
   ]
  },
  {
   "cell_type": "code",
   "execution_count": null,
   "id": "a2d20796963b3a6c",
   "metadata": {
    "ExecuteTime": {
     "end_time": "2024-02-26T16:42:29.094403201Z",
     "start_time": "2024-02-26T16:42:28.961247030Z"
    },
    "collapsed": false
   },
   "outputs": [],
   "source": [
    "reader = mir.MultiResolutionImageReader()\n",
    "mr_image = reader.open(sample_slide_path)\n",
    "\n",
    "image_thumbnail = mr_image.getUCharPatch(\n",
    "    0, 0,\n",
    "    mr_image.getLevelDimensions(mask_downsapmle_level)[0], mr_image.getLevelDimensions(mask_downsapmle_level)[1],\n",
    "    mask_downsapmle_level\n",
    ")\n",
    "plt.imshow(image_thumbnail)"
   ]
  },
  {
   "cell_type": "code",
   "execution_count": null,
   "id": "661373ef",
   "metadata": {},
   "outputs": [],
   "source": [
    "downsample_factor = mr_image.getLevelDownsample(example_region_downsample_level)\n",
    "print(downsample_factor)\n",
    "image_patch = mr_image.getUCharPatch(\n",
    "    *example_region_xy,     # *(x, y) -> x, y\n",
    "    *example_region_size,\n",
    "    example_region_downsample_level\n",
    ")\n",
    "plt.imshow(image_patch)\n",
    "image_patch.size"
   ]
  },
  {
   "cell_type": "code",
   "execution_count": null,
   "id": "d8dc678075b3565b",
   "metadata": {
    "ExecuteTime": {
     "end_time": "2024-02-26T16:42:30.332994862Z",
     "start_time": "2024-02-26T16:42:30.291412924Z"
    },
    "collapsed": false
   },
   "outputs": [],
   "source": [
    "annotation_list = mir.AnnotationList()\n",
    "xml_repository = mir.XmlRepository(annotation_list)\n",
    "xml_repository.setSource(sample_xml_annotation_path)\n",
    "xml_repository.load()"
   ]
  },
  {
   "cell_type": "code",
   "execution_count": null,
   "id": "1f7bd2ee",
   "metadata": {},
   "outputs": [],
   "source": [
    "[el for el in dir(annotation_list.getAnnotation(0)) if not el.startswith('_')]"
   ]
  },
  {
   "cell_type": "code",
   "execution_count": null,
   "id": "5836c9ba",
   "metadata": {},
   "outputs": [],
   "source": [
    "print(annotation_list.getAnnotation(0).getName())\n",
    "print(annotation_list.getAnnotation(0).getNumberOfPoints())\n"
   ]
  },
  {
   "cell_type": "code",
   "execution_count": null,
   "id": "47674e0e",
   "metadata": {},
   "outputs": [],
   "source": [
    "annotation_mask = mir.AnnotationToMask()\n",
    "\n",
    "dataset_2_convert_args = {\n",
    "    'camelyon16': {\n",
    "        'label_map': {'Tumor': 1, 'Normal': 2},\n",
    "        'conversion_order': ['Tumor', 'Normal']\n",
    "    },\n",
    "    'camelyon17': {\n",
    "        'label_map': {'metastases': 1, 'normal': 2},\n",
    "        'conversion_order': ['metastases', 'normal']\n",
    "    },\n",
    "    'default': {\n",
    "        'label_map': {'_0': 1, '_1': 1, '_2': 0},\n",
    "        'conversion_order': ['_0', '_1', '_2']\n",
    "    }\n",
    "}\n",
    "\n",
    "dataset_name = 'camelyon16'\n",
    "label_map = dataset_2_convert_args.get(dataset_name, dataset_2_convert_args['default'])['label_map']\n",
    "conversion_order = dataset_2_convert_args.get(dataset_name, dataset_2_convert_args['default'])['conversion_order']\n",
    "\n",
    "print(label_map)\n",
    "print(conversion_order)\n"
   ]
  },
  {
   "cell_type": "code",
   "execution_count": null,
   "id": "d64485e3",
   "metadata": {},
   "outputs": [],
   "source": [
    "annotation_mask.convert(\n",
    "    annotation_list,\n",
    "    sample_from_xml_reference_mask_mir_path,\n",
    "    mr_image.getDimensions(),\n",
    "    mr_image.getSpacing(),\n",
    "    label_map,\n",
    "    conversion_order,\n",
    ")"
   ]
  },
  {
   "cell_type": "code",
   "execution_count": null,
   "id": "6ef4cfa4",
   "metadata": {},
   "outputs": [],
   "source": [
    "print(\"sample_from_xml_reference_mask_mir_path\", sample_from_xml_reference_mask_mir_path)\n",
    "print(\"mask_downsapmle_level\", mask_downsapmle_level)\n",
    "\n",
    "mr_mask = reader.open(sample_from_xml_reference_mask_mir_path)\n",
    "print(\"Mask Dimentions\", mr_mask.getDimensions())\n",
    "print(\"Min value:\", mr_mask.getMinValue())\n",
    "print(\"Max value:\", mr_mask.getMaxValue())\n",
    "\n",
    "\n",
    "mr_mask_thumbnail = mr_mask.getUCharPatch(\n",
    "    0, 0,\n",
    "    mr_image.getLevelDimensions(mask_downsapmle_level)[0], mr_image.getLevelDimensions(mask_downsapmle_level)[1],\n",
    "    mask_downsapmle_level\n",
    ")\n",
    "plt.imshow(mr_mask_thumbnail, cmap='gray')"
   ]
  },
  {
   "cell_type": "code",
   "execution_count": null,
   "id": "1653e25c",
   "metadata": {},
   "outputs": [],
   "source": [
    "print(\"sample_from_xml_reference_mask_mir_path\", sample_from_xml_reference_mask_mir_path)\n",
    "print(\"mask_downsapmle_level\", mask_downsapmle_level)\n",
    "\n",
    "openslide_mask = openslide.open_slide(sample_from_xml_reference_mask_mir_path)\n",
    "\n",
    "openslide_mask_thumbnail = openslide_mask.read_region(\n",
    "    (0, 0),\n",
    "    mask_downsapmle_level,\n",
    "    openslide_mask.level_dimensions[mask_downsapmle_level]\n",
    ")\n",
    "openslide_mask_thumbnail_np = np.array(openslide_mask_thumbnail)\n",
    "\n",
    "print(\"Shape:\", openslide_mask_thumbnail_np.shape)\n",
    "print(\"Min values across channels:\", openslide_mask_thumbnail_np.min(axis=(0,1)))\n",
    "print(\"Max values across channels\", openslide_mask_thumbnail_np.max(axis=(0,1)))\n",
    "plt.imshow(openslide_mask_thumbnail_np[:, :, 0], cmap='gray')"
   ]
  },
  {
   "cell_type": "code",
   "execution_count": null,
   "id": "0e863c61",
   "metadata": {},
   "outputs": [],
   "source": [
    "openslide_spacing = (\n",
    "    float(openslide_slide.properties['openslide.mpp-x']),\n",
    "    float(openslide_slide.properties['openslide.mpp-y'])\n",
    "    )\n",
    "\n",
    "# possible to use openslide_slide.dimensions and openslide_spacing\n",
    "# annotation_mask.convert(\n",
    "#     annotation_list,\n",
    "#     sample_from_xml_reference_mask_openslide_path,\n",
    "#     openslide_slide.dimensions,\n",
    "#     openslide_spacing,\n",
    "#     label_map,\n",
    "#     conversion_order\n",
    "# )"
   ]
  },
  {
   "cell_type": "code",
   "execution_count": null,
   "id": "e4297ef9",
   "metadata": {},
   "outputs": [],
   "source": [
    "assert mr_image.getDimensions() == openslide_slide.dimensions\n",
    "assert np.allclose(np.array(mr_image.getSpacing()), np.array(openslide_spacing))"
   ]
  },
  {
   "cell_type": "code",
   "execution_count": null,
   "id": "412f2bd7",
   "metadata": {},
   "outputs": [],
   "source": []
  }
 ],
 "metadata": {
  "kernelspec": {
   "display_name": "Python 3",
   "language": "python",
   "name": "python3"
  },
  "language_info": {
   "codemirror_mode": {
    "name": "ipython",
    "version": 3
   },
   "file_extension": ".py",
   "mimetype": "text/x-python",
   "name": "python",
   "nbconvert_exporter": "python",
   "pygments_lexer": "ipython3",
   "version": "3.11.6"
  }
 },
 "nbformat": 4,
 "nbformat_minor": 5
}
